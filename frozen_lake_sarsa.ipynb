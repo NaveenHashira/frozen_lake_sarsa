{
  "nbformat": 4,
  "nbformat_minor": 0,
  "metadata": {
    "colab": {
      "provenance": []
    },
    "kernelspec": {
      "name": "python3",
      "display_name": "Python 3"
    },
    "language_info": {
      "name": "python"
    }
  },
  "cells": [
    {
      "cell_type": "code",
      "execution_count": 1,
      "metadata": {
        "id": "8XZcZLfzd5ND"
      },
      "outputs": [],
      "source": [
        "!pip install -Uq gymnasium"
      ]
    },
    {
      "cell_type": "markdown",
      "source": [
        "## Create environment\n"
      ],
      "metadata": {
        "id": "_7bzi_mBisbB"
      }
    },
    {
      "cell_type": "code",
      "source": [
        "import numpy as np\n",
        "import gymnasium as gym"
      ],
      "metadata": {
        "id": "CdVc7jnxhZmS"
      },
      "execution_count": 1,
      "outputs": []
    },
    {
      "cell_type": "code",
      "source": [
        "env = gym.make(\"FrozenLake-v1\", is_slippery = True)\n",
        "n_states = env.observation_space.n\n",
        "n_actions = env.action_space.n"
      ],
      "metadata": {
        "id": "gzrd3N5BizhO"
      },
      "execution_count": 2,
      "outputs": []
    },
    {
      "cell_type": "code",
      "source": [
        "n_states"
      ],
      "metadata": {
        "colab": {
          "base_uri": "https://localhost:8080/"
        },
        "id": "GPrMYoEBjVGl",
        "outputId": "a4d75c7a-ca0a-4e94-af2f-68d29c504de7"
      },
      "execution_count": 3,
      "outputs": [
        {
          "output_type": "execute_result",
          "data": {
            "text/plain": [
              "np.int64(16)"
            ]
          },
          "metadata": {},
          "execution_count": 3
        }
      ]
    },
    {
      "cell_type": "code",
      "source": [
        "n_actions"
      ],
      "metadata": {
        "colab": {
          "base_uri": "https://localhost:8080/"
        },
        "id": "Ih2vPkXIjWly",
        "outputId": "08ee7064-0102-42aa-d628-e4e6dcce8f3d"
      },
      "execution_count": 4,
      "outputs": [
        {
          "output_type": "execute_result",
          "data": {
            "text/plain": [
              "np.int64(4)"
            ]
          },
          "metadata": {},
          "execution_count": 4
        }
      ]
    },
    {
      "cell_type": "markdown",
      "source": [
        "## Initailiza Q-table"
      ],
      "metadata": {
        "id": "x40zeepqjZir"
      }
    },
    {
      "cell_type": "code",
      "source": [
        "Q = np.zeros((n_states, n_actions))\n"
      ],
      "metadata": {
        "id": "jaqaNUMCjXrd"
      },
      "execution_count": 5,
      "outputs": []
    },
    {
      "cell_type": "code",
      "source": [
        "#sarasa hyperparameters\n",
        "epsilon = 0.9\n",
        "alpha = 0.1\n",
        "gamma = 0.95\n",
        "epsilon_decay = 0.995\n",
        "epsilon_min = 0.01\n",
        "episodes = 2000\n",
        "max_steps = 100\n"
      ],
      "metadata": {
        "id": "IbaSUQK2ps5F"
      },
      "execution_count": 6,
      "outputs": []
    },
    {
      "cell_type": "code",
      "source": [
        "observation, info = env.reset()\n",
        "print(observation)"
      ],
      "metadata": {
        "colab": {
          "base_uri": "https://localhost:8080/"
        },
        "id": "mai7pwmdq0Jh",
        "outputId": "3fa7da0b-0654-4855-8e6d-3f2dca0e9e76"
      },
      "execution_count": 7,
      "outputs": [
        {
          "output_type": "stream",
          "name": "stdout",
          "text": [
            "0\n"
          ]
        }
      ]
    },
    {
      "cell_type": "code",
      "source": [],
      "metadata": {
        "id": "MB5I1WVVsFwU"
      },
      "execution_count": null,
      "outputs": []
    }
  ]
}