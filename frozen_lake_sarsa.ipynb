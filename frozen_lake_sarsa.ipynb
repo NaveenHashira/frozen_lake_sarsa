{
  "nbformat": 4,
  "nbformat_minor": 0,
  "metadata": {
    "colab": {
      "provenance": [],
      "authorship_tag": "ABX9TyOuhUSmZrQA3dMbtvn/qA3O",
      "include_colab_link": true
    },
    "kernelspec": {
      "name": "python3",
      "display_name": "Python 3"
    },
    "language_info": {
      "name": "python"
    }
  },
  "cells": [
    {
      "cell_type": "markdown",
      "metadata": {
        "id": "view-in-github",
        "colab_type": "text"
      },
      "source": [
        "<a href=\"https://colab.research.google.com/github/NaveenHashira/frozen_lake_sarsa/blob/main/frozen_lake_sarsa.ipynb\" target=\"_parent\"><img src=\"https://colab.research.google.com/assets/colab-badge.svg\" alt=\"Open In Colab\"/></a>"
      ]
    },
    {
      "cell_type": "code",
      "execution_count": 1,
      "metadata": {
        "id": "8XZcZLfzd5ND"
      },
      "outputs": [],
      "source": [
        "!pip install -Uq gymnasium"
      ]
    },
    {
      "cell_type": "markdown",
      "source": [
        "## Create environment\n"
      ],
      "metadata": {
        "id": "_7bzi_mBisbB"
      }
    },
    {
      "cell_type": "code",
      "source": [
        "import numpy as np\n",
        "import gymnasium as gym\n",
        "import random"
      ],
      "metadata": {
        "id": "CdVc7jnxhZmS"
      },
      "execution_count": 2,
      "outputs": []
    },
    {
      "cell_type": "code",
      "source": [
        "env = gym.make(\"FrozenLake-v1\", is_slippery = True)\n",
        "n_states = env.observation_space.n\n",
        "n_actions = env.action_space.n"
      ],
      "metadata": {
        "id": "gzrd3N5BizhO"
      },
      "execution_count": 29,
      "outputs": []
    },
    {
      "cell_type": "code",
      "source": [
        "n_states"
      ],
      "metadata": {
        "colab": {
          "base_uri": "https://localhost:8080/"
        },
        "id": "GPrMYoEBjVGl",
        "outputId": "0a12f2ef-3770-4744-f690-ca8af7ad987d"
      },
      "execution_count": 4,
      "outputs": [
        {
          "output_type": "execute_result",
          "data": {
            "text/plain": [
              "np.int64(16)"
            ]
          },
          "metadata": {},
          "execution_count": 4
        }
      ]
    },
    {
      "cell_type": "code",
      "source": [
        "n_actions"
      ],
      "metadata": {
        "colab": {
          "base_uri": "https://localhost:8080/"
        },
        "id": "Ih2vPkXIjWly",
        "outputId": "a34a7c5a-87e0-4684-d1d3-a09543097451"
      },
      "execution_count": 5,
      "outputs": [
        {
          "output_type": "execute_result",
          "data": {
            "text/plain": [
              "np.int64(4)"
            ]
          },
          "metadata": {},
          "execution_count": 5
        }
      ]
    },
    {
      "cell_type": "markdown",
      "source": [
        "## Initailiza Q-table"
      ],
      "metadata": {
        "id": "x40zeepqjZir"
      }
    },
    {
      "cell_type": "code",
      "source": [
        "Q = np.zeros((n_states, n_actions))\n"
      ],
      "metadata": {
        "id": "jaqaNUMCjXrd"
      },
      "execution_count": 6,
      "outputs": []
    },
    {
      "cell_type": "code",
      "source": [
        "Q[0]"
      ],
      "metadata": {
        "colab": {
          "base_uri": "https://localhost:8080/"
        },
        "id": "8-ibPcQXpp07",
        "outputId": "2d3574f0-b15b-43c0-e450-d9a62fc1dadf"
      },
      "execution_count": 7,
      "outputs": [
        {
          "output_type": "execute_result",
          "data": {
            "text/plain": [
              "array([0., 0., 0., 0.])"
            ]
          },
          "metadata": {},
          "execution_count": 7
        }
      ]
    },
    {
      "cell_type": "code",
      "source": [
        "#sarasa hyperparameters\n",
        "epsilon = 0.9\n",
        "alpha = 0.1\n",
        "gamma = 0.95\n",
        "epsilon_decay = 0.995\n",
        "epsilon_min = 0.01\n",
        "episodes = 2000\n",
        "max_steps = 100\n"
      ],
      "metadata": {
        "id": "IbaSUQK2ps5F"
      },
      "execution_count": 16,
      "outputs": []
    },
    {
      "cell_type": "code",
      "source": [
        "observation, info = env.reset()\n",
        "print(observation)"
      ],
      "metadata": {
        "colab": {
          "base_uri": "https://localhost:8080/"
        },
        "id": "mai7pwmdq0Jh",
        "outputId": "dfc96ebe-82b2-4889-c7fb-3d261831fd3c"
      },
      "execution_count": 17,
      "outputs": [
        {
          "output_type": "stream",
          "name": "stdout",
          "text": [
            "0\n"
          ]
        }
      ]
    },
    {
      "cell_type": "code",
      "source": [
        "# ε-greedy action selection\n",
        "def epsilon_greedy(state):\n",
        "    if np.random.rand() < epsilon:\n",
        "        return env.action_space.sample()\n",
        "    return np.argmax(Q[state])\n",
        "\n",
        "# Training loop\n",
        "for episode in range(episodes):\n",
        "    state, _ = env.reset()\n",
        "    action = epsilon_greedy(state)\n",
        "\n",
        "    done = False\n",
        "    while not done:\n",
        "        next_state, reward, terminated, truncated, _ = env.step(action)\n",
        "        done = terminated or truncated\n",
        "\n",
        "        next_action = epsilon_greedy(next_state)\n",
        "\n",
        "        # SARSA update\n",
        "        Q[state, action] += alpha * (\n",
        "            reward + (gamma * Q[next_state, next_action]) - Q[state, action]\n",
        "        )\n",
        "\n",
        "        state = next_state\n",
        "        action = next_action\n",
        "\n",
        "    epsilon = max(epsilon_min, epsilon * epsilon_decay)\n"
      ],
      "metadata": {
        "id": "E48YVrq3pUBh"
      },
      "execution_count": 30,
      "outputs": []
    },
    {
      "cell_type": "code",
      "source": [
        "# Evaluate learned policy\n",
        "def evaluate_policy():\n",
        "    total_rewards = 0\n",
        "    episodes = 100\n",
        "    for _ in range(episodes):\n",
        "        state, _ = env.reset()\n",
        "        done = False\n",
        "        while not done:\n",
        "            action = np.argmax(Q[state])\n",
        "            state, reward, terminated, truncated, _ = env.step(action)\n",
        "            done = terminated or truncated\n",
        "            total_rewards += reward\n",
        "    print(f\"Average reward over {episodes} episodes: {total_rewards / episodes:.2f}\")\n",
        "\n",
        "evaluate_policy()\n"
      ],
      "metadata": {
        "colab": {
          "base_uri": "https://localhost:8080/"
        },
        "id": "xnx2yLC2q5rA",
        "outputId": "9c4bb0d2-1dbc-4032-ce7c-a01a558a8a4e"
      },
      "execution_count": 32,
      "outputs": [
        {
          "output_type": "stream",
          "name": "stdout",
          "text": [
            "Average reward over 100 episodes: 0.58\n"
          ]
        }
      ]
    },
    {
      "cell_type": "code",
      "source": [],
      "metadata": {
        "id": "8CTO-1sY3ivG"
      },
      "execution_count": null,
      "outputs": []
    }
  ]
}